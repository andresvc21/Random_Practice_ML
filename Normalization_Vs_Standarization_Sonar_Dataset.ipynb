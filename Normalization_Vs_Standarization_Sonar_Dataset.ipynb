{
  "nbformat": 4,
  "nbformat_minor": 0,
  "metadata": {
    "colab": {
      "name": "Normalization Vs Standarization - Sonar Dataset",
      "provenance": [],
      "toc_visible": true,
      "authorship_tag": "ABX9TyPtLIWTZcYZUW3FgI7OFldg",
      "include_colab_link": true
    },
    "kernelspec": {
      "name": "python3",
      "display_name": "Python 3"
    },
    "language_info": {
      "name": "python"
    }
  },
  "cells": [
    {
      "cell_type": "markdown",
      "metadata": {
        "id": "view-in-github",
        "colab_type": "text"
      },
      "source": [
        "<a href=\"https://colab.research.google.com/github/andresvc21/Random_Practice_ML/blob/main/Normalization_Vs_Standarization_Sonar_Dataset.ipynb\" target=\"_parent\"><img src=\"https://colab.research.google.com/assets/colab-badge.svg\" alt=\"Open In Colab\"/></a>"
      ]
    },
    {
      "cell_type": "markdown",
      "source": [
        "# RAW"
      ],
      "metadata": {
        "id": "kAyhmHAGxJca"
      }
    },
    {
      "cell_type": "code",
      "execution_count": 26,
      "metadata": {
        "colab": {
          "base_uri": "https://localhost:8080/"
        },
        "id": "PnzeYIJ1q-Pl",
        "outputId": "5b416f48-2b52-4906-a2f5-cdc63869bd28"
      },
      "outputs": [
        {
          "output_type": "stream",
          "name": "stdout",
          "text": [
            "(208, 61)\n"
          ]
        }
      ],
      "source": [
        "from pandas import read_csv\n",
        "from matplotlib import pyplot as plt\n",
        "\n",
        "#Load Data Set\n",
        "url = \"https://raw.githubusercontent.com/jbrownlee/Datasets/master/sonar.csv\"\n",
        "df = read_csv(url, header=None)\n",
        "\n",
        "#Analysis\n",
        "print(df.shape)"
      ]
    },
    {
      "cell_type": "code",
      "source": [
        "print(df.head(20))"
      ],
      "metadata": {
        "colab": {
          "base_uri": "https://localhost:8080/"
        },
        "id": "BUSYbeP6rnj9",
        "outputId": "b9b68571-ceb6-4bee-cc5e-54c084cf35f9"
      },
      "execution_count": 15,
      "outputs": [
        {
          "output_type": "stream",
          "name": "stdout",
          "text": [
            "        0       1       2       3       4   ...      56      57      58      59  60\n",
            "0   0.0200  0.0371  0.0428  0.0207  0.0954  ...  0.0180  0.0084  0.0090  0.0032   R\n",
            "1   0.0453  0.0523  0.0843  0.0689  0.1183  ...  0.0140  0.0049  0.0052  0.0044   R\n",
            "2   0.0262  0.0582  0.1099  0.1083  0.0974  ...  0.0316  0.0164  0.0095  0.0078   R\n",
            "3   0.0100  0.0171  0.0623  0.0205  0.0205  ...  0.0050  0.0044  0.0040  0.0117   R\n",
            "4   0.0762  0.0666  0.0481  0.0394  0.0590  ...  0.0072  0.0048  0.0107  0.0094   R\n",
            "5   0.0286  0.0453  0.0277  0.0174  0.0384  ...  0.0057  0.0027  0.0051  0.0062   R\n",
            "6   0.0317  0.0956  0.1321  0.1408  0.1674  ...  0.0092  0.0143  0.0036  0.0103   R\n",
            "7   0.0519  0.0548  0.0842  0.0319  0.1158  ...  0.0085  0.0047  0.0048  0.0053   R\n",
            "8   0.0223  0.0375  0.0484  0.0475  0.0647  ...  0.0065  0.0093  0.0059  0.0022   R\n",
            "9   0.0164  0.0173  0.0347  0.0070  0.0187  ...  0.0032  0.0035  0.0056  0.0040   R\n",
            "10  0.0039  0.0063  0.0152  0.0336  0.0310  ...  0.0042  0.0003  0.0053  0.0036   R\n",
            "11  0.0123  0.0309  0.0169  0.0313  0.0358  ...  0.0026  0.0092  0.0009  0.0044   R\n",
            "12  0.0079  0.0086  0.0055  0.0250  0.0344  ...  0.0059  0.0058  0.0059  0.0032   R\n",
            "13  0.0090  0.0062  0.0253  0.0489  0.1197  ...  0.0158  0.0053  0.0189  0.0102   R\n",
            "14  0.0124  0.0433  0.0604  0.0449  0.0597  ...  0.0114  0.0196  0.0147  0.0062   R\n",
            "15  0.0298  0.0615  0.0650  0.0921  0.1615  ...  0.0152  0.0049  0.0200  0.0073   R\n",
            "16  0.0352  0.0116  0.0191  0.0469  0.0737  ...  0.0095  0.0015  0.0073  0.0067   R\n",
            "17  0.0192  0.0607  0.0378  0.0774  0.1388  ...  0.0045  0.0037  0.0112  0.0075   R\n",
            "18  0.0270  0.0092  0.0145  0.0278  0.0412  ...  0.0120  0.0132  0.0070  0.0088   R\n",
            "19  0.0126  0.0149  0.0641  0.1732  0.2565  ...  0.0181  0.0094  0.0116  0.0063   R\n",
            "\n",
            "[20 rows x 61 columns]\n"
          ]
        }
      ]
    },
    {
      "cell_type": "code",
      "source": [
        "print(df.tail(20))"
      ],
      "metadata": {
        "colab": {
          "base_uri": "https://localhost:8080/"
        },
        "id": "9nqJJZhUruQ0",
        "outputId": "4bcb81c4-390f-4eac-ac87-aa99945b1708"
      },
      "execution_count": 16,
      "outputs": [
        {
          "output_type": "stream",
          "name": "stdout",
          "text": [
            "         0       1       2       3       4   ...      56      57      58      59  60\n",
            "188  0.0089  0.0274  0.0248  0.0237  0.0224  ...  0.0021  0.0069  0.0060  0.0018   M\n",
            "189  0.0158  0.0239  0.0150  0.0494  0.0988  ...  0.0034  0.0046  0.0022  0.0021   M\n",
            "190  0.0156  0.0210  0.0282  0.0596  0.0462  ...  0.0056  0.0056  0.0048  0.0024   M\n",
            "191  0.0315  0.0252  0.0167  0.0479  0.0902  ...  0.0054  0.0035  0.0001  0.0055   M\n",
            "192  0.0056  0.0267  0.0221  0.0561  0.0936  ...  0.0037  0.0024  0.0034  0.0007   M\n",
            "193  0.0203  0.0121  0.0380  0.0128  0.0537  ...  0.0028  0.0036  0.0013  0.0016   M\n",
            "194  0.0392  0.0108  0.0267  0.0257  0.0410  ...  0.0071  0.0044  0.0022  0.0014   M\n",
            "195  0.0129  0.0141  0.0309  0.0375  0.0767  ...  0.0054  0.0017  0.0024  0.0029   M\n",
            "196  0.0050  0.0017  0.0270  0.0450  0.0958  ...  0.0024  0.0063  0.0017  0.0028   M\n",
            "197  0.0366  0.0421  0.0504  0.0250  0.0596  ...  0.0025  0.0017  0.0027  0.0027   M\n",
            "198  0.0238  0.0318  0.0422  0.0399  0.0788  ...  0.0028  0.0013  0.0035  0.0060   M\n",
            "199  0.0116  0.0744  0.0367  0.0225  0.0076  ...  0.0037  0.0044  0.0057  0.0035   M\n",
            "200  0.0131  0.0387  0.0329  0.0078  0.0721  ...  0.0040  0.0009  0.0015  0.0085   M\n",
            "201  0.0335  0.0258  0.0398  0.0570  0.0529  ...  0.0045  0.0022  0.0005  0.0031   M\n",
            "202  0.0272  0.0378  0.0488  0.0848  0.1127  ...  0.0054  0.0051  0.0065  0.0103   M\n",
            "203  0.0187  0.0346  0.0168  0.0177  0.0393  ...  0.0065  0.0115  0.0193  0.0157   M\n",
            "204  0.0323  0.0101  0.0298  0.0564  0.0760  ...  0.0034  0.0032  0.0062  0.0067   M\n",
            "205  0.0522  0.0437  0.0180  0.0292  0.0351  ...  0.0140  0.0138  0.0077  0.0031   M\n",
            "206  0.0303  0.0353  0.0490  0.0608  0.0167  ...  0.0034  0.0079  0.0036  0.0048   M\n",
            "207  0.0260  0.0363  0.0136  0.0272  0.0214  ...  0.0040  0.0036  0.0061  0.0115   M\n",
            "\n",
            "[20 rows x 61 columns]\n"
          ]
        }
      ]
    },
    {
      "cell_type": "code",
      "source": [
        "print(df.describe())"
      ],
      "metadata": {
        "colab": {
          "base_uri": "https://localhost:8080/"
        },
        "id": "fsK_Lf21rwzI",
        "outputId": "41957b3f-9097-41a0-9b83-31bdb300e72e"
      },
      "execution_count": 17,
      "outputs": [
        {
          "output_type": "stream",
          "name": "stdout",
          "text": [
            "               0           1           2   ...          57          58          59\n",
            "count  208.000000  208.000000  208.000000  ...  208.000000  208.000000  208.000000\n",
            "mean     0.029164    0.038437    0.043832  ...    0.007949    0.007941    0.006507\n",
            "std      0.022991    0.032960    0.038428  ...    0.006470    0.006181    0.005031\n",
            "min      0.001500    0.000600    0.001500  ...    0.000300    0.000100    0.000600\n",
            "25%      0.013350    0.016450    0.018950  ...    0.003600    0.003675    0.003100\n",
            "50%      0.022800    0.030800    0.034300  ...    0.005800    0.006400    0.005300\n",
            "75%      0.035550    0.047950    0.057950  ...    0.010350    0.010325    0.008525\n",
            "max      0.137100    0.233900    0.305900  ...    0.044000    0.036400    0.043900\n",
            "\n",
            "[8 rows x 60 columns]\n"
          ]
        }
      ]
    },
    {
      "cell_type": "code",
      "source": [
        "# histograms of the variables\n",
        "hist=df.hist(grid=False, figsize=(15,15))\n"
      ],
      "metadata": {
        "colab": {
          "base_uri": "https://localhost:8080/",
          "height": 878
        },
        "id": "DzJwElLyr3Di",
        "outputId": "b4176eb7-d956-4d84-8e29-1d587fa71dbb"
      },
      "execution_count": 27,
      "outputs": [
        {
          "output_type": "display_data",
          "data": {
            "image/png": "[encoded data removed]",
            "text/plain": [
              "<Figure size 1080x1080 with 64 Axes>"
            ]
          },
          "metadata": {
            "needs_background": "light"
          }
        }
      ]
    },
    {
      "cell_type": "code",
      "source": [
        "#Machine Learning model using KNeihbors\n",
        "from sklearn.model_selection import cross_val_score\n",
        "from sklearn.model_selection import RepeatedStratifiedKFold\n",
        "from sklearn.neighbors import KNeighborsClassifier\n",
        "from sklearn.preprocessing import LabelEncoder\n",
        "from numpy import mean\n",
        "from numpy import std\n",
        "\n",
        "X = df.iloc[:, :-1]\n",
        "y = df.iloc[:,-1]\n",
        "\n",
        "y = LabelEncoder().fit_transform(y.astype('str'))\n",
        "print(X)\n",
        "print(y)"
      ],
      "metadata": {
        "colab": {
          "base_uri": "https://localhost:8080/"
        },
        "id": "0VaZfib5uBzf",
        "outputId": "782d01c9-963c-4b3c-8977-0b1cfc838eb6"
      },
      "execution_count": 37,
      "outputs": [
        {
          "output_type": "stream",
          "name": "stdout",
          "text": [
            "         0       1       2       3   ...      56      57      58      59\n",
            "0    0.0200  0.0371  0.0428  0.0207  ...  0.0180  0.0084  0.0090  0.0032\n",
            "1    0.0453  0.0523  0.0843  0.0689  ...  0.0140  0.0049  0.0052  0.0044\n",
            "2    0.0262  0.0582  0.1099  0.1083  ...  0.0316  0.0164  0.0095  0.0078\n",
            "3    0.0100  0.0171  0.0623  0.0205  ...  0.0050  0.0044  0.0040  0.0117\n",
            "4    0.0762  0.0666  0.0481  0.0394  ...  0.0072  0.0048  0.0107  0.0094\n",
            "..      ...     ...     ...     ...  ...     ...     ...     ...     ...\n",
            "203  0.0187  0.0346  0.0168  0.0177  ...  0.0065  0.0115  0.0193  0.0157\n",
            "204  0.0323  0.0101  0.0298  0.0564  ...  0.0034  0.0032  0.0062  0.0067\n",
            "205  0.0522  0.0437  0.0180  0.0292  ...  0.0140  0.0138  0.0077  0.0031\n",
            "206  0.0303  0.0353  0.0490  0.0608  ...  0.0034  0.0079  0.0036  0.0048\n",
            "207  0.0260  0.0363  0.0136  0.0272  ...  0.0040  0.0036  0.0061  0.0115\n",
            "\n",
            "[208 rows x 60 columns]\n",
            "[1 1 1 1 1 1 1 1 1 1 1 1 1 1 1 1 1 1 1 1 1 1 1 1 1 1 1 1 1 1 1 1 1 1 1 1 1\n",
            " 1 1 1 1 1 1 1 1 1 1 1 1 1 1 1 1 1 1 1 1 1 1 1 1 1 1 1 1 1 1 1 1 1 1 1 1 1\n",
            " 1 1 1 1 1 1 1 1 1 1 1 1 1 1 1 1 1 1 1 1 1 1 1 0 0 0 0 0 0 0 0 0 0 0 0 0 0\n",
            " 0 0 0 0 0 0 0 0 0 0 0 0 0 0 0 0 0 0 0 0 0 0 0 0 0 0 0 0 0 0 0 0 0 0 0 0 0\n",
            " 0 0 0 0 0 0 0 0 0 0 0 0 0 0 0 0 0 0 0 0 0 0 0 0 0 0 0 0 0 0 0 0 0 0 0 0 0\n",
            " 0 0 0 0 0 0 0 0 0 0 0 0 0 0 0 0 0 0 0 0 0 0 0]\n"
          ]
        }
      ]
    },
    {
      "cell_type": "code",
      "source": [
        "model = KNeighborsClassifier()\n",
        "cv = RepeatedStratifiedKFold(n_splits=10, n_repeats=3, random_state=42)\n",
        "n_scores = cross_val_score(model, X, y, scoring='accuracy', cv=cv, n_jobs=-1, error_score='raise')\n",
        "# report model performance\n",
        "print('Accuracy: %.3f (%.3f)' % (mean(n_scores), std(n_scores)))"
      ],
      "metadata": {
        "colab": {
          "base_uri": "https://localhost:8080/"
        },
        "id": "ZEbt1Wb-vABo",
        "outputId": "51d3f37e-61ee-485e-fcb1-5e995c502764"
      },
      "execution_count": 36,
      "outputs": [
        {
          "output_type": "stream",
          "name": "stdout",
          "text": [
            "Accuracy: 0.805 (0.083)\n"
          ]
        }
      ]
    },
    {
      "cell_type": "markdown",
      "source": [
        "# NORMALIZE"
      ],
      "metadata": {
        "id": "PXwd928cxIK8"
      }
    },
    {
      "cell_type": "code",
      "source": [
        "# perform a robust scaler transform of the dataset\n",
        "from sklearn.preprocessing import MinMaxScaler\n",
        "trans = MinMaxScaler()\n",
        "data_norm = trans.fit_transform(X)\n",
        "\n",
        "print(data_norm)"
      ],
      "metadata": {
        "colab": {
          "base_uri": "https://localhost:8080/"
        },
        "id": "Bid_BOGKxRZY",
        "outputId": "350ce23f-6ae0-4653-d3aa-3027a6edd0ea"
      },
      "execution_count": 40,
      "outputs": [
        {
          "output_type": "stream",
          "name": "stdout",
          "text": [
            "[[0.13643068 0.15645092 0.13567674 ... 0.18535469 0.24517906 0.06004619]\n",
            " [0.32300885 0.22160309 0.27201051 ... 0.10526316 0.14049587 0.08775982]\n",
            " [0.18215339 0.24689241 0.35611038 ... 0.36842105 0.25895317 0.16628176]\n",
            " ...\n",
            " [0.37389381 0.18474068 0.05420499 ... 0.30892449 0.20936639 0.05773672]\n",
            " [0.21238938 0.14873553 0.15604468 ... 0.17391304 0.09641873 0.09699769]\n",
            " [0.18067847 0.15302186 0.03975033 ... 0.07551487 0.16528926 0.2517321 ]]\n"
          ]
        }
      ]
    },
    {
      "cell_type": "code",
      "source": [
        "cv = RepeatedStratifiedKFold(n_splits=10, n_repeats=3, random_state=1)\n",
        "n_scores = cross_val_score(model, data_norm, y, scoring='accuracy', cv=cv, n_jobs=-1, error_score='raise')\n",
        "# report pipeline performance\n",
        "print('Accuracy: %.3f (%.3f)' % (mean(n_scores), std(n_scores)))"
      ],
      "metadata": {
        "colab": {
          "base_uri": "https://localhost:8080/"
        },
        "id": "XEBN_EZJx5Ht",
        "outputId": "e67375a2-416f-4e55-ed51-96c72765e1c7"
      },
      "execution_count": 42,
      "outputs": [
        {
          "output_type": "stream",
          "name": "stdout",
          "text": [
            "Accuracy: 0.811 (0.093)\n"
          ]
        }
      ]
    },
    {
      "cell_type": "markdown",
      "source": [
        "# STANDARIZE"
      ],
      "metadata": {
        "id": "ZPSvB6v2yVaM"
      }
    },
    {
      "cell_type": "code",
      "source": [
        "from sklearn.preprocessing import StandardScaler\n",
        "\n",
        "trans = StandardScaler()\n",
        "data_stand = trans.fit_transform(X)\n",
        "\n",
        "print(data_stand)"
      ],
      "metadata": {
        "colab": {
          "base_uri": "https://localhost:8080/"
        },
        "id": "s_A4q5hqzY7p",
        "outputId": "5f7ae8a9-6cbe-4814-c1d5-52f0aa617dae"
      },
      "execution_count": 43,
      "outputs": [
        {
          "output_type": "stream",
          "name": "stdout",
          "text": [
            "[[-0.39955135 -0.04064823 -0.02692565 ...  0.06987027  0.17167808\n",
            "  -0.65894689]\n",
            " [ 0.70353822  0.42163039  1.05561832 ... -0.47240644 -0.44455424\n",
            "  -0.41985233]\n",
            " [-0.12922901  0.60106749  1.72340448 ...  1.30935987  0.25276128\n",
            "   0.25758223]\n",
            " ...\n",
            " [ 1.00438083  0.16007801 -0.67384349 ...  0.90652575 -0.03913824\n",
            "  -0.67887143]\n",
            " [ 0.04953255 -0.09539176  0.13480381 ... -0.00759783 -0.70402047\n",
            "  -0.34015415]\n",
            " [-0.13794908 -0.06497869 -0.78861924 ... -0.6738235  -0.29860448\n",
            "   0.99479044]]\n"
          ]
        }
      ]
    },
    {
      "cell_type": "code",
      "source": [
        "cv = RepeatedStratifiedKFold(n_splits=10, n_repeats=3, random_state=1)\n",
        "n_scores = cross_val_score(model, data_stand, y, scoring='accuracy', cv=cv, n_jobs=-1, error_score='raise')\n",
        "# report pipeline performance\n",
        "print('Accuracy: %.3f (%.3f)' % (mean(n_scores), std(n_scores)))"
      ],
      "metadata": {
        "colab": {
          "base_uri": "https://localhost:8080/"
        },
        "id": "Yu1zdNvpznek",
        "outputId": "a3a9d642-209b-47da-b14b-272a12627103"
      },
      "execution_count": 44,
      "outputs": [
        {
          "output_type": "stream",
          "name": "stdout",
          "text": [
            "Accuracy: 0.806 (0.079)\n"
          ]
        }
      ]
    },
    {
      "cell_type": "markdown",
      "source": [
        "# FUNCTION "
      ],
      "metadata": {
        "id": "nnxUptiWzxfU"
      }
    },
    {
      "cell_type": "code",
      "source": [
        "#Bcs why not?\n",
        "\n",
        "def ML_model(X):\n",
        "  model = KNeighborsClassifier()\n",
        "  cv = RepeatedStratifiedKFold(n_splits=10, n_repeats=3, random_state=42)\n",
        "  n_scores = cross_val_score(model, X, y, scoring='accuracy', cv=cv, n_jobs=-1, error_score='raise')\n",
        "  # report model performance\n",
        "  print('Accuracy: %.3f (%.3f)' % (mean(n_scores), std(n_scores)))\n",
        "\n",
        "#RAW\n",
        "ML_model(X)\n",
        "\n",
        "#NORMALIZE\n",
        "ML_model(data_norm)\n",
        "\n",
        "#STANDARIZE\n",
        "ML_model(data_stand)\n"
      ],
      "metadata": {
        "colab": {
          "base_uri": "https://localhost:8080/"
        },
        "id": "MJVtWxF4zzGZ",
        "outputId": "39bfc788-d396-4d08-a72a-8712dee7a7b6"
      },
      "execution_count": 45,
      "outputs": [
        {
          "output_type": "stream",
          "name": "stdout",
          "text": [
            "Accuracy: 0.805 (0.083)\n",
            "Accuracy: 0.827 (0.080)\n",
            "Accuracy: 0.819 (0.086)\n"
          ]
        }
      ]
    }
  ]
}