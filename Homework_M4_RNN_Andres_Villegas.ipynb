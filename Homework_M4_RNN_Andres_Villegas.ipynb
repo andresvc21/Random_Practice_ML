{
  "nbformat": 4,
  "nbformat_minor": 0,
  "metadata": {
    "colab": {
      "name": "Homework_M4_RNN_Andres_Villegas.ipynb",
      "provenance": [],
      "collapsed_sections": [],
      "include_colab_link": true
    },
    "kernelspec": {
      "display_name": "Python 3",
      "language": "python",
      "name": "python3"
    },
    "language_info": {
      "codemirror_mode": {
        "name": "ipython",
        "version": 3
      },
      "file_extension": ".py",
      "mimetype": "text/x-python",
      "name": "python",
      "nbconvert_exporter": "python",
      "pygments_lexer": "ipython3",
      "version": "3.7.7"
    }
  },
  "cells": [
    {
      "cell_type": "markdown",
      "metadata": {
        "id": "view-in-github",
        "colab_type": "text"
      },
      "source": [
        "<a href=\"https://colab.research.google.com/github/andresvc21/Random_Practice_ML/blob/main/Homework_M4_RNN_Andres_Villegas.ipynb\" target=\"_parent\"><img src=\"https://colab.research.google.com/assets/colab-badge.svg\" alt=\"Open In Colab\"/></a>"
      ]
    },
    {
      "cell_type": "markdown",
      "metadata": {
        "id": "3kyBPdCftP-2"
      },
      "source": [
        "# Homework RNNs\n",
        "1. Download and explore data\n",
        "2. Preproceess data if needed\n",
        "3. Create a dataset with group of inputs of some size (between 10 and 50)\n",
        "4. Split the data into train and test\n",
        "5. Use 3 different RNN type"
      ]
    },
    {
      "cell_type": "markdown",
      "source": [
        "#MINTS\n"
      ],
      "metadata": {
        "id": "60dmgJ-WU6V1"
      }
    },
    {
      "cell_type": "markdown",
      "source": [
        "#Preview"
      ],
      "metadata": {
        "id": "YpVLkNnwU_eA"
      }
    },
    {
      "cell_type": "code",
      "source": [
        "# input data\n",
        "\n",
        "from keras.datasets import mnist\n",
        "import numpy as np\n",
        "import matplotlib.pyplot as plt\n",
        "from tensorflow import keras\n",
        "from tensorflow.keras.models import Sequential\n",
        "from tensorflow.keras.layers import Dense, Dropout, LSTM\n",
        "import tensorflow as tf\n",
        "\n",
        "(x_train, y_train), (x_test, y_test) = mnist.load_data()\n",
        "print(x_train.shape)\n",
        "print(x_train[0].shape)"
      ],
      "metadata": {
        "colab": {
          "base_uri": "https://localhost:8080/"
        },
        "id": "AYUyKFcQU78_",
        "outputId": "03bac52f-3b6b-410d-dc87-fe0ea3e2d423"
      },
      "execution_count": 10,
      "outputs": [
        {
          "output_type": "stream",
          "name": "stdout",
          "text": [
            "(60000, 28, 28)\n",
            "(28, 28)\n"
          ]
        }
      ]
    },
    {
      "cell_type": "markdown",
      "source": [
        "#Normalize Data"
      ],
      "metadata": {
        "id": "W2oV4xp2V6sm"
      }
    },
    {
      "cell_type": "code",
      "source": [
        "x_train =  x_train/255.0\n",
        "x_test = x_test/255.0"
      ],
      "metadata": {
        "id": "4xLae-Z9V8Di"
      },
      "execution_count": 11,
      "outputs": []
    },
    {
      "cell_type": "markdown",
      "source": [
        "#Model 1"
      ],
      "metadata": {
        "id": "4ocULrtIWSy4"
      }
    },
    {
      "cell_type": "code",
      "source": [
        "model = Sequential()\n",
        "\n",
        "# Layers\n",
        "model.add(LSTM(128, input_shape=(x_train.shape[1:]), return_sequences=True))\n",
        "model.add(Dropout(0.2))\n",
        "\n",
        "model.add(LSTM(128))\n",
        "model.add(Dropout(0.2))\n",
        "\n",
        "model.add(Dense(32, activation='relu'))\n",
        "model.add(Dropout(0.2))\n",
        "\n",
        "model.add(Dense(10, activation='softmax'))\n",
        "\n",
        "# Optimizer\n",
        "opt = tf.keras.optimizers.Adam(lr=1e-3, decay=1e-5)\n",
        "\n",
        "#Compile\n",
        "model.compile(loss='sparse_categorical_crossentropy', optimizer=opt, metrics=['accuracy'])\n",
        "\n",
        "#Fit\n",
        "model.fit(x_train, y_train, epochs=3, validation_data=(x_test, y_test))"
      ],
      "metadata": {
        "colab": {
          "base_uri": "https://localhost:8080/"
        },
        "id": "kFVBYsNDWTw4",
        "outputId": "cbb250ec-5a6f-4d59-8ded-4947a74d29a9"
      },
      "execution_count": 12,
      "outputs": [
        {
          "output_type": "stream",
          "name": "stderr",
          "text": [
            "/usr/local/lib/python3.7/dist-packages/keras/optimizer_v2/adam.py:105: UserWarning: The `lr` argument is deprecated, use `learning_rate` instead.\n",
            "  super(Adam, self).__init__(name, **kwargs)\n"
          ]
        },
        {
          "output_type": "stream",
          "name": "stdout",
          "text": [
            "Epoch 1/3\n",
            "1875/1875 [==============================] - 136s 71ms/step - loss: 0.3943 - accuracy: 0.8791 - val_loss: 0.1271 - val_accuracy: 0.9638\n",
            "Epoch 2/3\n",
            "1875/1875 [==============================] - 129s 69ms/step - loss: 0.1260 - accuracy: 0.9661 - val_loss: 0.0912 - val_accuracy: 0.9733\n",
            "Epoch 3/3\n",
            "1875/1875 [==============================] - 130s 69ms/step - loss: 0.0900 - accuracy: 0.9759 - val_loss: 0.0599 - val_accuracy: 0.9823\n"
          ]
        },
        {
          "output_type": "execute_result",
          "data": {
            "text/plain": [
              "<keras.callbacks.History at 0x7f0857e2de10>"
            ]
          },
          "metadata": {},
          "execution_count": 12
        }
      ]
    },
    {
      "cell_type": "markdown",
      "source": [
        "#Model 2\n"
      ],
      "metadata": {
        "id": "FDWMFl1oWgaS"
      }
    },
    {
      "cell_type": "code",
      "source": [
        "model = Sequential()\n",
        "\n",
        "# Layers\n",
        "model.add(LSTM(128, input_shape=(x_train.shape[1:]), return_sequences=True))\n",
        "model.add(Dropout(0.2))\n",
        "\n",
        "model.add(LSTM(64))\n",
        "model.add(Dropout(0.2))\n",
        "\n",
        "model.add(Dense(32, activation='relu'))\n",
        "model.add(Dropout(0.5))\n",
        "\n",
        "model.add(Dense(10, activation='softmax'))\n",
        "\n",
        "# Optimizer\n",
        "opt = tf.keras.optimizers.Adam(lr=1e-3, decay=1e-5)\n",
        "\n",
        "#Compile\n",
        "model.compile(loss='sparse_categorical_crossentropy', optimizer=opt, metrics=['accuracy'])\n",
        "\n",
        "#Fit\n",
        "model.fit(x_train, y_train, epochs=3, validation_data=(x_test, y_test))"
      ],
      "metadata": {
        "colab": {
          "base_uri": "https://localhost:8080/"
        },
        "id": "Y88WJ71-WhyJ",
        "outputId": "1adcfeec-12e1-4038-ed79-be472f88c93a"
      },
      "execution_count": 13,
      "outputs": [
        {
          "output_type": "stream",
          "name": "stdout",
          "text": [
            "Epoch 1/3\n"
          ]
        },
        {
          "output_type": "stream",
          "name": "stderr",
          "text": [
            "/usr/local/lib/python3.7/dist-packages/keras/optimizer_v2/adam.py:105: UserWarning: The `lr` argument is deprecated, use `learning_rate` instead.\n",
            "  super(Adam, self).__init__(name, **kwargs)\n"
          ]
        },
        {
          "output_type": "stream",
          "name": "stdout",
          "text": [
            "1875/1875 [==============================] - 96s 49ms/step - loss: 0.6144 - accuracy: 0.8109 - val_loss: 0.2166 - val_accuracy: 0.9425\n",
            "Epoch 2/3\n",
            "1875/1875 [==============================] - 92s 49ms/step - loss: 0.2358 - accuracy: 0.9400 - val_loss: 0.1781 - val_accuracy: 0.9604\n",
            "Epoch 3/3\n",
            "1875/1875 [==============================] - 93s 50ms/step - loss: 0.1650 - accuracy: 0.9576 - val_loss: 0.1060 - val_accuracy: 0.9729\n"
          ]
        },
        {
          "output_type": "execute_result",
          "data": {
            "text/plain": [
              "<keras.callbacks.History at 0x7f0857cdaf90>"
            ]
          },
          "metadata": {},
          "execution_count": 13
        }
      ]
    },
    {
      "cell_type": "markdown",
      "source": [
        "#Model 3\n"
      ],
      "metadata": {
        "id": "jlh9AFJLWiH_"
      }
    },
    {
      "cell_type": "code",
      "source": [
        "# Now lets try to change lr "
      ],
      "metadata": {
        "id": "yyS22WB3WjTy"
      },
      "execution_count": null,
      "outputs": []
    }
  ]
}